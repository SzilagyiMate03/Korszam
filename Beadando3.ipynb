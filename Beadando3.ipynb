{
 "cells": [
  {
   "cell_type": "code",
   "execution_count": 1,
   "metadata": {},
   "outputs": [
    {
     "name": "stdout",
     "output_type": "stream",
     "text": [
      "(32, 10, 100, 100)\n"
     ]
    }
   ],
   "source": [
    "import tensorflow as tf\n",
    "\n",
    "tensor1 = tf.random.uniform([32, 10, 100, 3], dtype=tf.float32)\n",
    "tensor2 = tf.random.uniform([32, 10, 100, 3], dtype=tf.float32)\n",
    "\n",
    "# Ahhoz, hogy az eredmény (32, 10, 100, 100) dimenziójú legyen,\n",
    "# az utolsó előtti dimenzió szerint kell az összes variáció.\n",
    "tensor1 = tf.expand_dims(tensor1, axis=-2)\n",
    "tensor2 = tf.expand_dims(tensor2, axis=-3)\n",
    "\n",
    "# Kiszámítjuk a különbség vektor hosszát, az utolsó dimenzióban\n",
    "tensor3 = tf.norm(tensor1-tensor2, ord='euclidean', axis=-1)\n",
    "print(tensor3.shape)"
   ]
  }
 ],
 "metadata": {
  "kernelspec": {
   "display_name": "Python 3",
   "language": "python",
   "name": "python3"
  },
  "language_info": {
   "codemirror_mode": {
    "name": "ipython",
    "version": 3
   },
   "file_extension": ".py",
   "mimetype": "text/x-python",
   "name": "python",
   "nbconvert_exporter": "python",
   "pygments_lexer": "ipython3",
   "version": "3.12.3"
  }
 },
 "nbformat": 4,
 "nbformat_minor": 2
}
